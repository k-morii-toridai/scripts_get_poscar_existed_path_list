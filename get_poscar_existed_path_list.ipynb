{
 "cells": [
  {
   "cell_type": "code",
   "execution_count": 48,
   "id": "8a33fd3c-bf1b-4a74-ad09-b59b14a63bb9",
   "metadata": {
    "tags": []
   },
   "outputs": [],
   "source": [
    "import os\n",
    "import re\n",
    "import itertools\n",
    "from tqdm import tqdm\n",
    "from pathlib import Path\n",
    "from multiprocessing import Pool, cpu_count\n",
    "\n",
    "import numpy as np\n",
    "\n",
    "\n",
    "def iterdir_func(poscar_dir):\n",
    "    return list(poscar_dir.iterdir())\n",
    "\n",
    "\n",
    "def flatten_func(list_2dim):\n",
    "    return list(itertools.chain.from_iterable(list_2dim))\n",
    "\n",
    "\n",
    "def get_subdir_list(dir_list):\n",
    "    return flatten_func(list(map(iterdir_func, dir_list)))"
   ]
  },
  {
   "cell_type": "code",
   "execution_count": 4,
   "id": "fc808c32-bac7-45d7-9c12-3623c66dcb8f",
   "metadata": {
    "tags": []
   },
   "outputs": [],
   "source": [
    "# args = sys.argv  # コマンドラインからcifディレクトリのパスを受け取る\n",
    "# p = Path(args[1])\n",
    "p = Path('/mnt/ssd_elecom_black_c2c_480G/cif')\n",
    "p_s_list = [p_sub_folder for p_sub_folder in p.glob('[1-9]')]\n",
    "p_ssss_list = get_subdir_list(get_subdir_list(get_subdir_list(p_s_list)))"
   ]
  },
  {
   "cell_type": "code",
   "execution_count": 10,
   "id": "6bfc90d8-3cbb-4d55-addf-8372f6b634ae",
   "metadata": {
    "tags": []
   },
   "outputs": [
    {
     "name": "stdout",
     "output_type": "stream",
     "text": [
      "len(poscar_folder_path_list): 507142\n"
     ]
    }
   ],
   "source": [
    "def poscar_folder_filter(path):\n",
    "    pattern = '[0-9]{6}$'  # 正規表現（：末尾が数字６文字で終わる）\n",
    "    string = str(path)\n",
    "    return bool(re.search(pattern, string))\n",
    "\n",
    "\n",
    "# make filter\n",
    "poscar_folder_path_list_filter = list(map(poscar_folder_filter, p_ssss_list))\n",
    "# apply poscar_folder_filter to p_ssss_list\n",
    "poscar_folder_path_list = np.array(p_ssss_list)[poscar_folder_path_list_filter]\n",
    "print(f'len(poscar_folder_path_list): {len(poscar_folder_path_list)}')"
   ]
  },
  {
   "cell_type": "code",
   "execution_count": 56,
   "id": "6c26ab6f-ff21-4a2e-950b-c551c702fd8a",
   "metadata": {
    "tags": []
   },
   "outputs": [
    {
     "name": "stdout",
     "output_type": "stream",
     "text": [
      "Now getting poscar exsited folder list!!!\n"
     ]
    },
    {
     "name": "stderr",
     "output_type": "stream",
     "text": [
      "100%|██████████████████████████████████████████████████████████████████████████████████████████████████████████████| 507142/507142 [06:50<00:00, 1236.82it/s]\n"
     ]
    }
   ],
   "source": [
    "try:\n",
    "    p = Pool(cpu_count() - 1)\n",
    "    print(\"Now getting poscar exsited folder list!!!\")\n",
    "    poscar_folder_sub_path_list = list(tqdm(p.imap(iterdir_func, poscar_folder_path_list), total=len(poscar_folder_path_list)))\n",
    "    poscar_folder_sub_path_list = flatten_func(poscar_folder_sub_path_list)\n",
    "finally:\n",
    "    p.close()\n",
    "    p.join()"
   ]
  },
  {
   "cell_type": "code",
   "execution_count": 59,
   "id": "693e92fa-907f-4d22-96d3-0d4c547f48dd",
   "metadata": {
    "tags": []
   },
   "outputs": [
    {
     "data": {
      "text/plain": [
       "815467"
      ]
     },
     "execution_count": 59,
     "metadata": {},
     "output_type": "execute_result"
    }
   ],
   "source": [
    "len(poscar_existed_folder_path_list)"
   ]
  },
  {
   "cell_type": "code",
   "execution_count": 60,
   "id": "dfe7d6be-6adc-423f-b29d-b1df181ecae9",
   "metadata": {
    "tags": []
   },
   "outputs": [],
   "source": [
    "def poscar_file_filter(path):\n",
    "    pattern = '[0-9]{6}/POSCAR$'  # 正規表現（：末尾が「数字６文字/POSCAR」で終わる）\n",
    "    string = str(path)\n",
    "    return bool(re.search(pattern, string))"
   ]
  },
  {
   "cell_type": "code",
   "execution_count": 61,
   "id": "ae1afb4b-9eb5-481a-8469-90a0c089a0ba",
   "metadata": {
    "tags": []
   },
   "outputs": [
    {
     "name": "stdout",
     "output_type": "stream",
     "text": [
      "len(poscar_existed_folder_path_list): 308325\n"
     ]
    }
   ],
   "source": [
    "# make filter\n",
    "poscar_file_path_list_filter = list(map(poscar_file_filter, poscar_folder_sub_path_list))\n",
    "# apply poscar_file_filter to poscar_existed_folder_path_list\n",
    "poscar_existed_file_path_list = np.array(poscar_folder_sub_path_list)[poscar_file_path_list_filter]\n",
    "print(f'len(poscar_existed_file_path_list): {len(poscar_existed_file_path_list)}')"
   ]
  },
  {
   "cell_type": "code",
   "execution_count": 64,
   "id": "7537b72e-f8c2-4ad9-8d74-4445e6c141c8",
   "metadata": {
    "tags": []
   },
   "outputs": [],
   "source": []
  },
  {
   "cell_type": "code",
   "execution_count": 67,
   "id": "fa9c2481-008b-485b-8751-a07fadc9375d",
   "metadata": {
    "tags": []
   },
   "outputs": [],
   "source": [
    "poscar_existed_folder_path_list = np.save('poscar_existed_folder_path_list.npy', [os.path.split(p)[0] for p in poscar_existed_file_path_list])"
   ]
  },
  {
   "cell_type": "code",
   "execution_count": null,
   "id": "1a982be9-c9d5-48e5-b7a4-96e996601067",
   "metadata": {},
   "outputs": [],
   "source": []
  },
  {
   "cell_type": "code",
   "execution_count": null,
   "id": "c7baccc8-fe21-4d97-ba3a-1e78caf75fa4",
   "metadata": {},
   "outputs": [],
   "source": []
  },
  {
   "cell_type": "code",
   "execution_count": null,
   "id": "b687aabf-f756-4ce8-8f6b-c72d3b6efa4c",
   "metadata": {},
   "outputs": [],
   "source": []
  },
  {
   "cell_type": "code",
   "execution_count": 73,
   "id": "c05cd0d7-bf62-4a7b-93c1-ea2a656a1b53",
   "metadata": {
    "tags": []
   },
   "outputs": [
    {
     "data": {
      "text/plain": [
       "308325"
      ]
     },
     "execution_count": 73,
     "metadata": {},
     "output_type": "execute_result"
    }
   ],
   "source": [
    "len(np.load('poscar_existed_file_path_list.npy', allow_pickle=True))"
   ]
  },
  {
   "cell_type": "code",
   "execution_count": null,
   "id": "23c3c0e4-7101-4ac0-b707-562043a2f4fe",
   "metadata": {},
   "outputs": [],
   "source": []
  },
  {
   "cell_type": "code",
   "execution_count": 74,
   "id": "7b9ce7bd-07e5-4aa4-929d-ac2021ba2a3b",
   "metadata": {
    "tags": []
   },
   "outputs": [
    {
     "data": {
      "text/plain": [
       "308325"
      ]
     },
     "execution_count": 74,
     "metadata": {},
     "output_type": "execute_result"
    }
   ],
   "source": [
    "len(np.load('poscar_existed_folder_path_list.npy', allow_pickle=True))"
   ]
  },
  {
   "cell_type": "code",
   "execution_count": null,
   "id": "4c5e99fa-acbc-4222-8587-c1c6e3fac795",
   "metadata": {},
   "outputs": [],
   "source": []
  },
  {
   "cell_type": "code",
   "execution_count": null,
   "id": "6d533d53-2dc0-41af-bbdf-bb0941d0a5fa",
   "metadata": {},
   "outputs": [],
   "source": []
  },
  {
   "cell_type": "code",
   "execution_count": 83,
   "id": "879b2543-56fd-49ee-8863-aa1aa4db4c80",
   "metadata": {
    "tags": []
   },
   "outputs": [
    {
     "name": "stdin",
     "output_type": "stream",
     "text": [
      "Please input 1 or 2 or 3.: \n",
      "If want to save Folder path list of poscar exsited, input 1.\n",
      "If save File path list, input 2.\n",
      "If save both Folder and File path list, input 3. 1\n"
     ]
    }
   ],
   "source": [
    "inputted_num = input('Please input 1 or 2 or 3.: \\n\\\n",
    "If want to save Folder path list of poscar exsited, input 1.\\n\\\n",
    "If save File path list, input 2.\\n\\\n",
    "If save both Folder and File path list, input 3.')"
   ]
  },
  {
   "cell_type": "code",
   "execution_count": null,
   "id": "f4914056-ff4d-4b4d-8528-7f7c04485499",
   "metadata": {},
   "outputs": [],
   "source": []
  }
 ],
 "metadata": {
  "kernelspec": {
   "display_name": "Python 3 (ipykernel)",
   "language": "python",
   "name": "python3"
  },
  "language_info": {
   "codemirror_mode": {
    "name": "ipython",
    "version": 3
   },
   "file_extension": ".py",
   "mimetype": "text/x-python",
   "name": "python",
   "nbconvert_exporter": "python",
   "pygments_lexer": "ipython3",
   "version": "3.10.12"
  }
 },
 "nbformat": 4,
 "nbformat_minor": 5
}
